{
 "cells": [
  {
   "cell_type": "code",
   "execution_count": 1,
   "metadata": {},
   "outputs": [
    {
     "name": "stderr",
     "output_type": "stream",
     "text": [
      "Using TensorFlow backend.\n"
     ]
    }
   ],
   "source": [
    "import os, cv2, random\n",
    "import numpy as np\n",
    "import pandas as pd\n",
    "import matplotlib.pyplot as plt\n",
    "from matplotlib import ticker\n",
    "import seaborn as sns\n",
    "%matplotlib inline\n",
    "from keras.models import Sequential\n",
    "from keras.layers import Input, Dropout, Flatten, Convolution2D, MaxPooling2D, Dense, Activation\n",
    "from keras.optimizers import RMSprop\n",
    "from keras.callbacks import ModelCheckpoint, Callback, EarlyStopping\n",
    "from keras.utils import np_utils\n",
    "from os import walk"
   ]
  },
  {
   "cell_type": "code",
   "execution_count": 2,
   "metadata": {},
   "outputs": [],
   "source": [
    "import cv2\n",
    "import os\n",
    "\n",
    "def facecrop(image):\n",
    "    facedata = \"haarcascade_frontalface_alt.xml\"\n",
    "    cascade = cv2.CascadeClassifier(facedata)\n",
    "\n",
    "    img = cv2.imread(image)\n",
    "\n",
    "    minisize = (img.shape[1],img.shape[0])\n",
    "    miniframe = cv2.resize(img, minisize)\n",
    "\n",
    "    faces = cascade.detectMultiScale(miniframe)\n",
    "\n",
    "    cnt = 0\n",
    "    for f in faces:\n",
    "        x, y, w, h = [ v for v in f ]\n",
    "        cv2.rectangle(img, (x,y), (x+w,y+h), (255,255,255))\n",
    "\n",
    "        sub_face = img[y:y+h, x:x+w]\n",
    "        fname, ext = os.path.splitext(image)\n",
    "        \n",
    "        fname = fname.replace('dataset/','')\n",
    "        fname = 'clean_dataset/'+fname\n",
    "        fname += \"_\"+str(cnt)\n",
    "\n",
    "        cv2.imwrite(fname+ext, sub_face)\n",
    "        cnt += 1"
   ]
  },
  {
   "cell_type": "code",
   "execution_count": 3,
   "metadata": {},
   "outputs": [],
   "source": [
    "def get_files(folder_name):\n",
    "    entries = os.listdir(folder_name)\n",
    "    temp = []\n",
    "    for (dirpath, dirnames, filenames) in walk(folder_name):\n",
    "        for x in filenames:\n",
    "            if x.endswith(\".jpg\"):\n",
    "                temp.append(os.path.join(dirpath, x))\n",
    "    return temp"
   ]
  },
  {
   "cell_type": "code",
   "execution_count": 4,
   "metadata": {},
   "outputs": [],
   "source": [
    "from os import walk\n",
    "def read_image(file_path):\n",
    "    img = cv2.imread(file_path, cv2.IMREAD_GRAYSCALE)\n",
    "    img = cv2.resize(img, (128,96))\n",
    "    return img\n",
    "\n",
    "def prep_data(images):\n",
    "    count = len(images)\n",
    "    data = np.ndarray((count, CHANNELS, ROWS, COLS), dtype=np.uint8)\n",
    "    for i, image_file in enumerate(images):\n",
    "        image = read_image(image_file)\n",
    "        data[i] = image\n",
    "    return data"
   ]
  },
  {
   "cell_type": "code",
   "execution_count": 34,
   "metadata": {},
   "outputs": [],
   "source": [
    "HELEN_1_DIR = 'dataset/helen_1/'\n",
    "HELEN_2_DIR = 'dataset/helen_2/'\n",
    "HELEN_3_DIR = 'dataset/helen_3/'\n",
    "HELEN_4_DIR = 'dataset/helen_4/'\n",
    "HELEN_5_DIR = 'dataset/helen_5/'\n",
    "\n",
    "helen_1_files = get_files(HELEN_1_DIR)\n",
    "helen_2_files = get_files(HELEN_2_DIR)\n",
    "helen_3_files = get_files(HELEN_3_DIR)\n",
    "helen_4_files = get_files(HELEN_4_DIR)\n",
    "helen_5_files = get_files(HELEN_5_DIR)\n",
    "\n",
    "train_image = helen_1_files + helen_2_files + helen_3_files + helen_4_files + helen_5_files\n",
    "for image in train_image:\n",
    "    facecrop(image)"
   ]
  },
  {
   "cell_type": "code",
   "execution_count": 35,
   "metadata": {},
   "outputs": [],
   "source": [
    "NEGROID_1_DIR = 'dataset/negroid/'\n",
    "MONGOLOID_2_DIR = 'dataset/mongoloid/'\n",
    "\n",
    "helen_1_files = get_files(NEGROID_1_DIR)\n",
    "helen_2_files = get_files(MONGOLOID_2_DIR)\n",
    "\n",
    "train_image = helen_1_files + helen_2_files\n",
    "for image in train_image:\n",
    "    facecrop(image)"
   ]
  },
  {
   "cell_type": "code",
   "execution_count": 41,
   "metadata": {},
   "outputs": [],
   "source": [
    "NEGROID_DIR = 'clean_dataset/negroid/'\n",
    "\n",
    "negroid_files = get_files(NEGROID_DIR)\n",
    "\n",
    "train_image = negroid_files\n",
    "f = open(\"tmp1.txt\", \"w\")\n",
    "for i in train_image:\n",
    "    f.write(i+'\\n')\n",
    "f.close()"
   ]
  },
  {
   "cell_type": "code",
   "execution_count": 42,
   "metadata": {},
   "outputs": [],
   "source": [
    "MONGOLOID_DIR = 'clean_dataset/mongoloid/'\n",
    "\n",
    "mongoloid_files = get_files(MONGOLOID_DIR)\n",
    "\n",
    "train_image = mongoloid_files\n",
    "f = open(\"tmp1.txt\", \"w\")\n",
    "for i in train_image:\n",
    "    f.write(i+'\\n')\n",
    "f.close()"
   ]
  },
  {
   "cell_type": "code",
   "execution_count": 6,
   "metadata": {},
   "outputs": [
    {
     "name": "stdout",
     "output_type": "stream",
     "text": [
      "Train shape: (2468, 1, 96, 128)\n"
     ]
    }
   ],
   "source": [
    "ROWS = 96\n",
    "COLS = 128\n",
    "CHANNELS = 1\n",
    "image_df = prep_data(train_image)\n",
    "print(\"Train shape: {}\".format(image_df.shape))"
   ]
  },
  {
   "cell_type": "code",
   "execution_count": 10,
   "metadata": {},
   "outputs": [
    {
     "data": {
      "text/plain": [
       "(96, 128)"
      ]
     },
     "execution_count": 10,
     "metadata": {},
     "output_type": "execute_result"
    }
   ],
   "source": [
    "image_df[0][0].shape"
   ]
  },
  {
   "cell_type": "code",
   "execution_count": 10,
   "metadata": {},
   "outputs": [],
   "source": [
    "file = open('testfile.csv','w')\n",
    "for i in train_image:\n",
    "    file.write(i+'\\n')\n",
    "file.close()"
   ]
  },
  {
   "cell_type": "code",
   "execution_count": null,
   "metadata": {},
   "outputs": [],
   "source": []
  }
 ],
 "metadata": {
  "kernelspec": {
   "display_name": "Python 3",
   "language": "python",
   "name": "python3"
  },
  "language_info": {
   "codemirror_mode": {
    "name": "ipython",
    "version": 3
   },
   "file_extension": ".py",
   "mimetype": "text/x-python",
   "name": "python",
   "nbconvert_exporter": "python",
   "pygments_lexer": "ipython3",
   "version": "3.7.1"
  }
 },
 "nbformat": 4,
 "nbformat_minor": 2
}
